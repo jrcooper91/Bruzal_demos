{
 "cells": [
  {
   "cell_type": "code",
   "execution_count": 11,
   "metadata": {
    "collapsed": true
   },
   "outputs": [],
   "source": [
    "import pyfits \n",
    "import matplotlib.pyplot as plt\n",
    "import numpy as np\n"
   ]
  },
  {
   "cell_type": "code",
   "execution_count": 25,
   "metadata": {},
   "outputs": [],
   "source": [
    "f = open('/Users/jennifercooper/Documents/Gal_Ev/Bruzual/bc03/models/Padova1994/chabrier/bc2003_hr_m42_chab_ssp.1color', 'r')\n",
    "lines = f.readlines()[29:]\n",
    "f.close()\n",
    "age = []\n",
    "U_B = []\n",
    "B_V = []\n",
    "\n",
    "for line in lines:\n",
    "    a = line.split()\n",
    "    age.append(float(a[0]))\n",
    "    U_B.append(float(a[13]))\n",
    "    B_V.append(float(a[14]))\n",
    "    \n",
    "U_B = np.array(U_B)\n",
    "B_V = np.array(B_V)\n",
    "age = np.array(age)\n",
    "\n",
    "U_V = U_B + B_V\n",
    "\n",
    "b = open('/Users/jennifercooper/Documents/Gal_Ev/Bruzual/bc03/models/Padova1994/chabrier/bc2003_hr_m42_chab_ssp.4color', 'r')\n",
    "lines = b.readlines()[29:]\n",
    "b.close()\n",
    "\n",
    "Mstarlv = []\n",
    "Mstarlk = []\n",
    "Mstar = []\n",
    "Mgas = []\n",
    "\n",
    "for line in lines:\n",
    "    a = line.split()\n",
    "    Mstarlv.append(float(a[5]))\n",
    "    Mstarlk.append(float(a[4]))\n",
    "    Mstar.append(float(a[6]))\n",
    "    Mgas.append(float(a[7]))\n",
    "\n",
    "Mstarlv = np.array(Mstarlv)\n",
    "Mstarlk = np.array(Mstarlk)\n",
    "Mstar = np.array(Mstar)\n",
    "Mgas = np.array(Mgas)"
   ]
  },
  {
   "cell_type": "code",
   "execution_count": 30,
   "metadata": {
    "collapsed": true
   },
   "outputs": [],
   "source": [
    "f = open('/Users/jennifercooper/Documents/Gal_Ev/Bruzual/bc03/models/Padova1994/chabrier/bc2003_hr_m72_chab_ssp.1color', 'r')\n",
    "lines = f.readlines()[29:]\n",
    "f.close()\n",
    "age72 = []\n",
    "U_B72 = []\n",
    "B_V72 = []\n",
    "\n",
    "for line in lines:\n",
    "    a = line.split()\n",
    "    age72.append(float(a[0]))\n",
    "    U_B72.append(float(a[13]))\n",
    "    B_V72.append(float(a[14]))\n",
    "    \n",
    "U_B72 = np.array(U_B72)\n",
    "B_V72 = np.array(B_V72)\n",
    "age72 = np.array(age72)\n",
    "\n",
    "U_V72 = U_B72 + B_V72\n",
    "\n",
    "b = open('/Users/jennifercooper/Documents/Gal_Ev/Bruzual/bc03/models/Padova1994/chabrier/bc2003_hr_m72_chab_ssp.4color', 'r')\n",
    "lines = b.readlines()[29:]\n",
    "b.close()\n",
    "\n",
    "Mstarlv72 = []\n",
    "Mstarlk72 = []\n",
    "Mstar72 = []\n",
    "Mgas72 = []\n",
    "\n",
    "for line in lines:\n",
    "    a = line.split()\n",
    "    Mstarlv72.append(float(a[5]))\n",
    "    Mstarlk72.append(float(a[4]))\n",
    "    Mstar72.append(float(a[6]))\n",
    "    Mgas72.append(float(a[7]))\n",
    "\n",
    "Mstarlv72 = np.array(Mstarlv72)\n",
    "Mstarlk72 = np.array(Mstarlk72)\n",
    "Mstar72 = np.array(Mstar72)\n",
    "Mgas72 = np.array(Mgas72)"
   ]
  },
  {
   "cell_type": "code",
   "execution_count": 35,
   "metadata": {},
   "outputs": [
    {
     "data": {
      "image/png": "[encoded data removed]",
      "text/plain": [
       "<matplotlib.figure.Figure at 0x117d82b50>"
      ]
     },
     "metadata": {},
     "output_type": "display_data"
    }
   ],
   "source": [
    "plt.subplot(4,2,1)\n",
    "plt.scatter(age,U_V,color='black')\n",
    "plt.title('Z = 0.004')\n",
    "#plt.xlabel('Age Gyr')\n",
    "plt.ylabel('U-V')\n",
    "#plt.show()\n",
    "plt.subplot(4,2,2)\n",
    "plt.scatter(age72,U_V72,color='black')\n",
    "plt.title('Z = 0.05')\n",
    "#plt.xlabel('Age Gyr')\n",
    "#plt.ylabel('U-V')\n",
    "plt.subplot(4,2,3)\n",
    "plt.scatter(age,Mstar,color='black')\n",
    "#plt.title('Z = 0.004')\n",
    "#plt.xlabel('Age Gyr')\n",
    "plt.ylabel('Mstar')\n",
    "plt.subplot(4,2,4)\n",
    "plt.scatter(age,Mstar72,color='black')\n",
    "#plt.title('Z = 0.004')\n",
    "#plt.xlabel('Age Gyr')\n",
    "#plt.ylabel('U-V')\n",
    "plt.subplot(4,2,5)\n",
    "plt.scatter(age,Mgas,color='black')\n",
    "#plt.title('Z = 0.004')\n",
    "#plt.xlabel('Age Gyr')\n",
    "plt.ylabel('Mgas')\n",
    "plt.subplot(4,2,6)\n",
    "plt.scatter(age,Mgas72,color='black')\n",
    "#plt.title('Z = 0.004')\n",
    "#plt.xlabel('Age Gyr')\n",
    "#plt.ylabel('Mgas')\n",
    "plt.subplot(4,2,7)\n",
    "plt.scatter(age,Mstarlv,color='black')\n",
    "#plt.title('Z = 0.004')\n",
    "plt.xlabel('Age Gyr')\n",
    "plt.ylabel('Mstar/Lv')\n",
    "plt.subplot(4,2,8)\n",
    "plt.scatter(age,Mstarlv72,color='black')\n",
    "#plt.title('Z = 0.004')\n",
    "plt.xlabel('Age Gyr')\n",
    "plt.ylabel('Mstar/Lv')\n",
    "plt.show()\n",
    "\n"
   ]
  },
  {
   "cell_type": "code",
   "execution_count": null,
   "metadata": {
    "collapsed": true
   },
   "outputs": [],
   "source": []
  }
 ],
 "metadata": {
  "kernelspec": {
   "display_name": "Python 2",
   "language": "python",
   "name": "python2"
  },
  "language_info": {
   "codemirror_mode": {
    "name": "ipython",
    "version": 2
   },
   "file_extension": ".py",
   "mimetype": "text/x-python",
   "name": "python",
   "nbconvert_exporter": "python",
   "pygments_lexer": "ipython2",
   "version": "2.7.13"
  }
 },
 "nbformat": 4,
 "nbformat_minor": 2
}
